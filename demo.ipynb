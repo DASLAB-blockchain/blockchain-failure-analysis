{
 "cells": [
  {
   "attachments": {},
   "cell_type": "markdown",
   "metadata": {},
   "source": [
    "# Demo of blockchain failure analysis"
   ]
  },
  {
   "cell_type": "code",
   "execution_count": 1,
   "metadata": {},
   "outputs": [],
   "source": [
    "import matplotlib.pyplot as plt\n",
    "import numpy as np\n",
    "import experiment"
   ]
  },
  {
   "attachments": {},
   "cell_type": "markdown",
   "metadata": {},
   "source": [
    "## Experiment 1: Simple read-write access pattern\n",
    "\n",
    "Assumes peers all operate under the following access pattern repeatedly:\n",
    "- Reads a random key, then immediately\n",
    "- Writes the same key\n",
    "\n",
    "We assume the keys are selected following a discrete zipfian distribution, parameterized by $l$, $h$, and $\\alpha$. For each integer key $k \\in [l, h]$, the probability of $k$ is:\n",
    "\n",
    "$$P(k) = \\frac{\\alpha^{-k}}{\\sum_{i=l}^{h} \\alpha^{-i}}$$\n",
    "\n",
    "Assuming the range of keys are 1-10, we visualize some distributions:"
   ]
  },
  {
   "cell_type": "code",
   "execution_count": 2,
   "metadata": {},
   "outputs": [
    {
     "data": {
      "image/png": "[encoded data removed]",
      "text/plain": [
       "<Figure size 500x500 with 1 Axes>"
      ]
     },
     "metadata": {},
     "output_type": "display_data"
    }
   ],
   "source": [
    "# Show some zipfian distribution\n",
    "l, h = 1, 10\n",
    "alphas = [2, 5, 10]\n",
    "fig, ax = plt.subplots(1, 1, figsize=(5, 5))\n",
    "keys = np.linspace(l, h, h-l+1)\n",
    "for alpha in alphas:\n",
    "    probs = alpha ** np.negative(keys)\n",
    "    ax.plot(keys, probs, label=alpha)\n",
    "ax.legend(title='alpha', loc='upper right')\n",
    "ax.set_xlabel('Key')\n",
    "ax.set_ylabel('Prob')\n",
    "ax.set_xticks(keys)\n",
    "ax.set_xticklabels(keys)\n",
    "plt.show()"
   ]
  },
  {
   "cell_type": "code",
   "execution_count": 2,
   "metadata": {},
   "outputs": [
    {
     "name": "stdout",
     "output_type": "stream",
     "text": [
      "Received tnxs 80, succeeded 45, success rate 56.25%\n"
     ]
    }
   ],
   "source": [
    "# Show how simulator works\n",
    "# Block size: 8\n",
    "# Peer count: 20\n",
    "# Key distribution: Zipfian with alpha = 5, min = 1, max = 10\n",
    "# Number of operations: 80\n",
    "\n",
    "blocks, succeeds, op_count, success_count = experiment.rw_experiment(\n",
    "    num_ops=80, block_size=8, n_peers=20, key_range_min=1, key_range_max=10, zipfian_alpha=5\n",
    ")\n",
    "\n",
    "print('Received tnxs {}, succeeded {}, success rate {:.2f}%'.format(\n",
    "    op_count, success_count, success_count * 100 / op_count\n",
    "))"
   ]
  },
  {
   "cell_type": "code",
   "execution_count": 7,
   "metadata": {},
   "outputs": [
    {
     "name": "stdout",
     "output_type": "stream",
     "text": [
      "--- block 0\n",
      "[PASS] Peer0 read 1\n",
      "[PASS] Peer19 read 1\n",
      "[PASS] Peer6 read 1\n",
      "[PASS] Peer10 read 1\n",
      "[PASS] Peer4 read 1\n",
      "[PASS] Peer15 read 1\n",
      "[PASS] Peer17 read 1\n",
      "[PASS] Peer9 read 1\n",
      "--- block 1\n",
      "[PASS] Peer3 read 1\n",
      "[PASS] Peer8 read 1\n",
      "[PASS] Peer7 read 1\n",
      "[PASS] Peer2 read 1\n",
      "[PASS] Peer14 read 4\n",
      "[PASS] Peer12 read 1\n",
      "[PASS] Peer1 read 2\n",
      "[PASS] Peer16 read 1\n",
      "--- block 2\n",
      "[PASS] Peer13 read 2\n",
      "[FAIL] Peer5 read 1\n",
      "[PASS] Peer18 read 4\n",
      "[FAIL] Peer11 read 1\n",
      "[FAIL] Peer0 write 1\n",
      "[FAIL] Peer15 write 1\n",
      "[FAIL] Peer6 write 1\n",
      "[FAIL] Peer10 write 1\n",
      "--- block 3\n",
      "[PASS] Peer9 write 1\n",
      "[PASS] Peer19 write 1\n",
      "[PASS] Peer4 write 1\n",
      "[PASS] Peer17 write 1\n",
      "[PASS] Peer12 write 1\n",
      "[PASS] Peer1 write 2\n",
      "[PASS] Peer16 write 1\n",
      "[PASS] Peer8 write 1\n",
      "--- block 4\n",
      "[FAIL] Peer2 write 1\n",
      "[FAIL] Peer7 write 1\n",
      "[FAIL] Peer3 write 1\n",
      "[PASS] Peer14 write 4\n",
      "[FAIL] Peer11 write 1\n",
      "[FAIL] Peer6 read 1\n",
      "[PASS] Peer13 write 2\n",
      "[FAIL] Peer5 write 1\n",
      "--- block 5\n",
      "[PASS] Peer18 write 4\n",
      "[PASS] Peer15 read 1\n",
      "[PASS] Peer0 read 1\n",
      "[PASS] Peer10 read 2\n",
      "[PASS] Peer16 read 1\n",
      "[PASS] Peer12 read 2\n",
      "[PASS] Peer1 read 1\n",
      "[PASS] Peer9 read 1\n",
      "--- block 6\n",
      "[PASS] Peer17 read 1\n",
      "[PASS] Peer8 read 1\n",
      "[PASS] Peer19 read 1\n",
      "[PASS] Peer4 read 1\n",
      "[PASS] Peer14 read 1\n",
      "[PASS] Peer3 read 1\n",
      "[PASS] Peer5 read 1\n",
      "[PASS] Peer7 read 1\n",
      "--- block 7\n",
      "[FAIL] Peer13 read 2\n",
      "[FAIL] Peer11 read 1\n",
      "[FAIL] Peer2 read 1\n",
      "[FAIL] Peer6 write 1\n",
      "[FAIL] Peer9 write 1\n",
      "[FAIL] Peer16 write 1\n",
      "[FAIL] Peer15 write 1\n",
      "[FAIL] Peer10 write 2\n",
      "--- block 8\n",
      "[FAIL] Peer18 read 1\n",
      "[FAIL] Peer0 write 1\n",
      "[FAIL] Peer1 write 1\n",
      "[PASS] Peer12 write 2\n",
      "[FAIL] Peer3 write 1\n",
      "[FAIL] Peer14 write 1\n",
      "[FAIL] Peer17 write 1\n",
      "[FAIL] Peer8 write 1\n",
      "--- block 9\n",
      "[FAIL] Peer19 write 1\n",
      "[FAIL] Peer4 write 1\n",
      "[FAIL] Peer5 write 1\n",
      "[FAIL] Peer7 write 1\n",
      "[FAIL] Peer11 write 1\n",
      "[FAIL] Peer15 read 2\n",
      "[FAIL] Peer10 read 1\n",
      "[FAIL] Peer13 write 2\n"
     ]
    }
   ],
   "source": [
    "# print each block\n",
    "for idx, bs in enumerate(zip(blocks, succeeds)):\n",
    "    print('--- block {}'.format(idx))\n",
    "    block, success = bs\n",
    "    for tnx, result in zip(block, success):\n",
    "        output = \"[PASS]\"\n",
    "        if result == 0:\n",
    "            output = \"[FAIL]\"\n",
    "        output += \" \" + tnx.user + \" \" + tnx.tnx_type + \" \" + str(int(tnx.key))\n",
    "        print(output)"
   ]
  }
 ],
 "metadata": {
  "kernelspec": {
   "display_name": "cs109a",
   "language": "python",
   "name": "python3"
  },
  "language_info": {
   "codemirror_mode": {
    "name": "ipython",
    "version": 3
   },
   "file_extension": ".py",
   "mimetype": "text/x-python",
   "name": "python",
   "nbconvert_exporter": "python",
   "pygments_lexer": "ipython3",
   "version": "3.9.7"
  },
  "orig_nbformat": 4
 },
 "nbformat": 4,
 "nbformat_minor": 2
}
